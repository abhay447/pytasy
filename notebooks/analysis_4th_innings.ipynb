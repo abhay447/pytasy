{
 "cells": [
  {
   "cell_type": "code",
   "execution_count": null,
   "id": "285145e1",
   "metadata": {},
   "outputs": [],
   "source": [
    "import sys\n",
    "import os\n",
    "import pandas as pd\n",
    "# Get the parent directory\n",
    "parent_dir = os.path.abspath(os.path.join(os.path.dirname('__file__'), '..'))\n",
    "sys.path.append(parent_dir)\n",
    "parent_dir"
   ]
  },
  {
   "cell_type": "code",
   "execution_count": null,
   "id": "2fed8417-c865-45c2-b33f-21960ba389ed",
   "metadata": {},
   "outputs": [],
   "source": [
    "from analysis_helper import get_analysis_df\n",
    "\n",
    "(full_df,people_df) = get_analysis_df(parent_dir)"
   ]
  },
  {
   "cell_type": "code",
   "execution_count": null,
   "id": "cf6a905b",
   "metadata": {},
   "outputs": [],
   "source": [
    "full_df = full_df[full_df['dt'] > '2010-12-31']\n",
    "test_4th_innings_stats = full_df[(full_df['innings_number'] == '3') & (full_df['match_type'].str.lower() == 'test')]\n",
    "test_4th_innings_stats\n",
    "del full_df"
   ]
  },
  {
   "cell_type": "code",
   "execution_count": null,
   "id": "1f6d65c7",
   "metadata": {},
   "outputs": [],
   "source": [
    "test_4th_innings_stats['innings_id'] = test_4th_innings_stats['match_id'] + \"#\" + test_4th_innings_stats['innings_number']\n",
    "grouping_keys = ['batter_name']\n",
    "batter_stats = test_4th_innings_stats.groupby(grouping_keys).agg(\n",
    "    runs=('batter_runs', 'sum'),\n",
    "    deliveries=('match_id', 'count'),\n",
    "    innings=('innings_id', 'nunique'),\n",
    ")\n",
    "batter_stats = batter_stats.reset_index()\n",
    "dismissals = test_4th_innings_stats[test_4th_innings_stats['is_wicket'] == 1].groupby(['wicket_player_name']).agg(\n",
    "    dismissals=('wicket_player_name', 'count')\n",
    ")\n",
    "dismissals = dismissals.reset_index()\n",
    "dismissals['batter_name'] = dismissals['wicket_player_name']\n",
    "\n",
    "batter_stats = pd.merge(\n",
    "    batter_stats, \n",
    "    dismissals, \n",
    "    on=grouping_keys,  # List of columns to join on\n",
    "    how='left',  # or 'left', 'right', 'outer',\n",
    ").reset_index()\n",
    "batter_stats['dismissals'] = batter_stats['dismissals'].replace(0, 1).fillna(1)\n",
    "del batter_stats['index']\n",
    "del batter_stats['wicket_player_name']\n",
    "del dismissals\n",
    "batter_stats =  batter_stats[batter_stats['innings'] > 20 ]\n",
    "batter_stats['runs_average'] = batter_stats['runs']/batter_stats['dismissals']\n",
    "batter_stats['deliveries_average'] = batter_stats['deliveries']/batter_stats['dismissals']\n",
    "batter_stats['strike_rate'] = 100*batter_stats['runs']/batter_stats['deliveries']\n",
    "batter_stats['dismissal_percentage'] = 100*batter_stats['dismissals']/batter_stats['innings']\n",
    "# batter_stats =  batter_stats[batter_stats['runs_average'] > 40 ]"
   ]
  },
  {
   "cell_type": "code",
   "execution_count": null,
   "id": "6e05bd61",
   "metadata": {},
   "outputs": [],
   "source": [
    "player_list = []\n",
    "runs_df = batter_stats.sort_values(['runs'], ascending=False)[:10]\n",
    "player_list = player_list + runs_df['batter_name'].to_list()\n",
    "runs_df"
   ]
  },
  {
   "cell_type": "code",
   "execution_count": null,
   "id": "bdf2383b",
   "metadata": {},
   "outputs": [],
   "source": [
    "runs_average_df = batter_stats.sort_values(['runs_average'], ascending=False)[:10]\n",
    "player_list = player_list + runs_average_df['batter_name'].to_list()\n",
    "runs_average_df"
   ]
  },
  {
   "cell_type": "code",
   "execution_count": null,
   "id": "5975dc8b",
   "metadata": {},
   "outputs": [],
   "source": [
    "deliveries_df = batter_stats.sort_values(['deliveries'], ascending=False)[:10]\n",
    "player_list = player_list + deliveries_df['batter_name'].to_list()\n",
    "deliveries_df"
   ]
  },
  {
   "cell_type": "code",
   "execution_count": null,
   "id": "cb6b922f",
   "metadata": {},
   "outputs": [],
   "source": [
    "deliveries_average_df  = batter_stats.sort_values(['deliveries_average'], ascending=False)[:10]\n",
    "player_list = player_list + deliveries_average_df['batter_name'].to_list()\n",
    "deliveries_average_df"
   ]
  },
  {
   "cell_type": "code",
   "execution_count": null,
   "id": "8e03e242",
   "metadata": {},
   "outputs": [],
   "source": [
    "dismissal_percent_df  = batter_stats.sort_values(['dismissal_percentage'], ascending=True)[:10]\n",
    "player_list = player_list + dismissal_percent_df['batter_name'].to_list()\n",
    "dismissal_percent_df"
   ]
  },
  {
   "cell_type": "code",
   "execution_count": null,
   "id": "81c66c63",
   "metadata": {},
   "outputs": [],
   "source": [
    "batter_stats.sort_values(['strike_rate'], ascending=False)[:10]\n"
   ]
  },
  {
   "cell_type": "code",
   "execution_count": null,
   "id": "d2a64a5b",
   "metadata": {},
   "outputs": [],
   "source": [
    "from collections import Counter\n",
    "player_freq = Counter(player_list)\n",
    "sorted_categories = player_freq.most_common()\n",
    "sorted_categories"
   ]
  },
  {
   "cell_type": "code",
   "execution_count": null,
   "id": "d5fdf287",
   "metadata": {},
   "outputs": [],
   "source": [
    "players = ['KS Williamson',\n",
    " 'DA Warner',\n",
    " 'D Elgar',\n",
    " 'AD Mathews',\n",
    " 'HM Amla',\n",
    " 'Asad Shafiq',\n",
    " 'AN Cook',\n",
    " 'BKG Mendis',\n",
    " 'JE Root',\n",
    " 'V Kohli']\n",
    "len(players)"
   ]
  },
  {
   "cell_type": "code",
   "execution_count": null,
   "id": "85ac54af",
   "metadata": {},
   "outputs": [],
   "source": [
    "import pandas as pd\n",
    "import matplotlib.pyplot as plt\n",
    "import numpy as np\n",
    "from matplotlib.patches import Rectangle\n",
    "import io\n",
    "import base64\n",
    "from IPython.display import Image, display"
   ]
  },
  {
   "cell_type": "code",
   "execution_count": null,
   "id": "4f30c447",
   "metadata": {},
   "outputs": [],
   "source": [
    "def save_styled_table(df, filename, title=\"4th innings stats\", \n",
    "                     figsize=(12, 8), dpi=300, format='png'):\n",
    "    \"\"\"\n",
    "    Save a beautifully styled DataFrame table to file\n",
    "    \n",
    "    Parameters:\n",
    "    - df: pandas DataFrame\n",
    "    - filename: output filename (with or without extension)\n",
    "    - title: table title\n",
    "    - figsize: figure size (width, height)\n",
    "    - dpi: image resolution (300 for high quality)\n",
    "    - format: image format ('png', 'jpg', 'pdf', 'svg')\n",
    "    \"\"\"\n",
    "    \n",
    "    # Add extension if not provided\n",
    "    if not any(filename.endswith(ext) for ext in ['.png', '.jpg', '.jpeg', '.pdf', '.svg']):\n",
    "        filename += f'.{format}'\n",
    "    \n",
    "    # Create figure\n",
    "    fig, ax = plt.subplots(figsize=figsize)\n",
    "    ax.axis('off')\n",
    "    \n",
    "    # Create table\n",
    "    table = ax.table(\n",
    "        cellText=df.values,\n",
    "        colLabels=df.columns,\n",
    "        cellLoc='center',\n",
    "        loc='center',\n",
    "        bbox=[0, 0, 1, 1]\n",
    "    )\n",
    "    \n",
    "    # Enhanced styling\n",
    "    table.auto_set_font_size(False)\n",
    "    table.set_fontsize(11)\n",
    "    table.scale(1.2, 2.5)\n",
    "    \n",
    "    # Professional color scheme\n",
    "    header_color = '#2E86AB'\n",
    "    row_colors = ['#F8F9FA', '#E9ECEF']\n",
    "    text_color = '#2C3E50'\n",
    "    \n",
    "    # Style header row\n",
    "    for i in range(len(df.columns)):\n",
    "        table[(0, i)].set_facecolor(header_color)\n",
    "        table[(0, i)].set_text_props(weight='bold', color='white', fontsize=12)\n",
    "        table[(0, i)].set_edgecolor('white')\n",
    "        table[(0, i)].set_linewidth(2)\n",
    "        table[(0, i)].set_height(0.08)\n",
    "    \n",
    "    # Style data rows\n",
    "    for i in range(1, len(df) + 1):\n",
    "        for j in range(len(df.columns)):\n",
    "            # Alternate row colors\n",
    "            table[(i, j)].set_facecolor(row_colors[i % 2])\n",
    "            table[(i, j)].set_text_props(color=text_color, fontsize=10)\n",
    "            table[(i, j)].set_edgecolor('white')\n",
    "            table[(i, j)].set_linewidth(1)\n",
    "            table[(i, j)].set_height(0.06)\n",
    "    \n",
    "    # Add title\n",
    "    plt.title(title, fontsize=18, fontweight='bold', pad=30, color=header_color)\n",
    "    \n",
    "    # Save with high quality\n",
    "    plt.savefig(filename, \n",
    "                bbox_inches='tight',\n",
    "                dpi=dpi,\n",
    "                facecolor='white',\n",
    "                edgecolor='none',\n",
    "                format=format,\n",
    "                pad_inches=0.2,\n",
    "                transparent=True)\n",
    "    \n",
    "    plt.close()"
   ]
  },
  {
   "cell_type": "code",
   "execution_count": null,
   "id": "6df1830a",
   "metadata": {},
   "outputs": [],
   "source": [
    "import dataframe_image as dfi\n",
    "\n",
    "for player in players:\n",
    "    player_df = batter_stats[batter_stats['batter_name'] == player].set_index('batter_name')\n",
    "    player_df = player_df.round(2)\n",
    "    player_df.rename(columns=str.upper, inplace=True)\n",
    "    player_df = player_df.T\n",
    "    player_df = player_df.reset_index()\n",
    "    player_df.rename(columns={'index': 'Batter name'}, inplace=True)\n",
    "    save_styled_table(player_df, f\"/mnt/c/Users/91636/Documents/cricketbystats/top_10_4th_innings_batter/images/{player}_4th_innings.png\")"
   ]
  }
 ],
 "metadata": {
  "kernelspec": {
   "display_name": "pytasy",
   "language": "python",
   "name": "python3"
  },
  "language_info": {
   "codemirror_mode": {
    "name": "ipython",
    "version": 3
   },
   "file_extension": ".py",
   "mimetype": "text/x-python",
   "name": "python",
   "nbconvert_exporter": "python",
   "pygments_lexer": "ipython3",
   "version": "3.11.13"
  }
 },
 "nbformat": 4,
 "nbformat_minor": 5
}
