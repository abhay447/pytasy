{
 "cells": [
  {
   "cell_type": "code",
   "execution_count": null,
   "id": "2ae3fbb3",
   "metadata": {},
   "outputs": [],
   "source": [
    "# import subprocess\n",
    "# download_command = \"wget --directory-prefix downloads https://cricsheet.org/register/people.csv\"\n",
    "# subprocess.run(download_command.split(\" \"))"
   ]
  },
  {
   "cell_type": "code",
   "execution_count": null,
   "id": "f85641ff",
   "metadata": {},
   "outputs": [],
   "source": [
    "from etl.spark.spark_session_helper import spark\n",
    "all_players_df = spark.read.csv(\"downloads/people.csv\", header=True)\n",
    "all_players_df.registerTempTable(\"all_players\")\n",
    "all_players_df.toPandas()"
   ]
  },
  {
   "cell_type": "code",
   "execution_count": null,
   "id": "bccae962-8bd5-4a58-b019-4725bbb7ad81",
   "metadata": {
    "scrolled": true
   },
   "outputs": [],
   "source": [
    "spark.sql(\"select * from all_players where lower(name) like '%kohli%'\").toPandas()"
   ]
  }
 ],
 "metadata": {
  "kernelspec": {
   "display_name": "pytasy",
   "language": "python",
   "name": "python3"
  },
  "language_info": {
   "codemirror_mode": {
    "name": "ipython",
    "version": 3
   },
   "file_extension": ".py",
   "mimetype": "text/x-python",
   "name": "python",
   "nbconvert_exporter": "python",
   "pygments_lexer": "ipython3",
   "version": "3.11.13"
  }
 },
 "nbformat": 4,
 "nbformat_minor": 5
}
