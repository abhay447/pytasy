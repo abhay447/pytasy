{
 "cells": [
  {
   "cell_type": "code",
   "execution_count": null,
   "id": "ceffff61-4800-478c-8cdc-60f550a7f65f",
   "metadata": {},
   "outputs": [],
   "source": [
    "from dataprep import prepare_data\n",
    "\n",
    "DATA_DOWNLOAD_MODE = \"FULL\" # FULL or INCREMENTAL\n",
    "# when INCREMENTAL is chosen then it is assumed that historical data already exists and last 30 days data is fetched and merged to that\n",
    "\n",
    "\n",
    "print(\"Start data prep\")\n",
    "# prepare_data(DATA_DOWNLOAD_MODE)"
   ]
  },
  {
   "cell_type": "code",
   "execution_count": null,
   "id": "c2fc5ec8-e45c-45b0-bf3a-ecefdf7c31fd",
   "metadata": {},
   "outputs": [],
   "source": [
    "import pandas as pd\n",
    "full_df = pd.read_parquet('/home/abhay/work/pytasy/processed_output/delivery_parquet/')\n",
    "people_df = pd.read_csv('downloads/people.csv')\n",
    "# full_df.createOrReplaceTempView(\"all_matches\")\n",
    "full_df"
   ]
  },
  {
   "cell_type": "code",
   "execution_count": null,
   "id": "bbeda0e5-c51a-4c37-8b01-23e70fa943cc",
   "metadata": {},
   "outputs": [],
   "source": [
    "full_df['match_type'].unique()"
   ]
  },
  {
   "cell_type": "code",
   "execution_count": null,
   "id": "2c9bc442-e698-4a26-8abe-45593a6215dd",
   "metadata": {},
   "outputs": [],
   "source": [
    "from country_lookup import venue_to_country, test_hosting_cities\n",
    "import numpy as np\n",
    "\n",
    "# Define the lookup function\n",
    "def lookup_country(city, venue):\n",
    "    if city is None:\n",
    "        return venue_to_country.get(venue, None)\n",
    "    return test_hosting_cities.get(city, None)  # Returns None if city not found\n",
    "lookup_country_vec = np.vectorize(lookup_country)\n",
    "# Apply the UDF\n",
    "full_df['country'] = lookup_country_vec(full_df['city'], full_df['venue_name'])\n",
    "\n",
    "full_df['year'] = pd.to_datetime(full_df[\"dt\"]).dt.year.astype('str')"
   ]
  },
  {
   "cell_type": "code",
   "execution_count": null,
   "id": "2fed8417-c865-45c2-b33f-21960ba389ed",
   "metadata": {},
   "outputs": [],
   "source": [
    "\n",
    "player_id = 'ba607b88'\n",
    "match_type='test'\n",
    "home_country='India'\n",
    "people_df[people_df['unique_name'].str.contains('kohli', case=False)]\n"
   ]
  },
  {
   "cell_type": "code",
   "execution_count": null,
   "id": "47c1047b-d2bc-4f3c-a827-1130c9d2bb7e",
   "metadata": {},
   "outputs": [],
   "source": [
    "match_type_stats = full_df[full_df['match_type'].str.lower() == match_type]\n",
    "batter_stats = match_type_stats[full_df['batter_id'] == player_id]\n",
    "batter_dismissals = match_type_stats[match_type_stats['wicket_player_id'] == player_id]"
   ]
  },
  {
   "cell_type": "code",
   "execution_count": null,
   "id": "33bb56c7",
   "metadata": {},
   "outputs": [],
   "source": [
    "batter_stats['innings_id'] = batter_stats['match_id'] + \"#\" + batter_stats['innings_number']\n",
    "innings_ids = set(batter_stats['innings_id'])\n",
    "batter_stats"
   ]
  },
  {
   "cell_type": "code",
   "execution_count": null,
   "id": "805e13ee",
   "metadata": {},
   "outputs": [],
   "source": [
    "team_stats = match_type_stats[(match_type_stats['batter_id'] != player_id) & ((match_type_stats['match_id'] + \"#\" + match_type_stats['innings_number']).isin(innings_ids))]\n",
    "team_dismissals = match_type_stats[\n",
    "    (match_type_stats['wicket_player_id'] != player_id) & (match_type_stats['is_wicket'] ==1) & ((match_type_stats['match_id'] + \"#\" + match_type_stats['innings_number']).isin(innings_ids))]"
   ]
  },
  {
   "cell_type": "code",
   "execution_count": null,
   "id": "980f9b0b",
   "metadata": {},
   "outputs": [],
   "source": [
    "def get_delivery_stats(player_id, match_type, full_df):\n",
    "    match_type_stats = full_df[full_df['match_type'].str.lower() == match_type]\n",
    "    batter_stats = match_type_stats[full_df['batter_id'] == player_id]\n",
    "    batter_dismissals = match_type_stats[match_type_stats['wicket_player_id'] == player_id]\n",
    "    batter_stats['innings_id'] = batter_stats['match_id'] + \"#\" + batter_stats['innings_number']\n",
    "    innings_ids = set(batter_stats['innings_id'])\n",
    "    team_stats = match_type_stats[(match_type_stats['batter_id'] != player_id) & ((match_type_stats['match_id'] + \"#\" + match_type_stats['innings_number']).isin(innings_ids))]\n",
    "    team_stats['innings_id'] = team_stats['match_id'] + \"#\" + team_stats['innings_number']\n",
    "    team_dismissals = match_type_stats[\n",
    "        (match_type_stats['wicket_player_id'] != player_id) & (match_type_stats['is_wicket'] ==1) & ((match_type_stats['match_id'] + \"#\" + match_type_stats['innings_number']).isin(innings_ids))]\n",
    "    return (batter_stats, batter_dismissals,team_stats, team_dismissals)\n",
    "\n",
    "def get_aggregate_stats(stats,dismissals, grouping_keys):\n",
    "    stats_agg = stats.groupby(grouping_keys).agg(\n",
    "        runs=('batter_runs', 'sum'),\n",
    "        deliveries=('venue_name', 'count'),\n",
    "        matches=('match_id', 'nunique'),\n",
    "        innings=('innings_id', 'nunique'),\n",
    "    )\n",
    "    dismissals_agg = dismissals.groupby(grouping_keys).agg(\n",
    "        dismissals=('batter_name', 'count')\n",
    "    )\n",
    "\n",
    "    combined_stats = pd.merge(\n",
    "        stats_agg, \n",
    "        dismissals_agg, \n",
    "        on=grouping_keys,  # List of columns to join on\n",
    "        how='left',  # or 'left', 'right', 'outer',\n",
    "    ).reset_index()\n",
    "    combined_stats['average'] = combined_stats['runs']/combined_stats['dismissals'].replace(0, 1).fillna(1)\n",
    "    combined_stats['strike_rate'] = 100*combined_stats['runs']/combined_stats['deliveries'].replace(0, 1).fillna(1)\n",
    "    return combined_stats\n",
    "\n",
    "def get_impact_stats(batter_stats,batter_dismissals,team_stats, team_dismissals, grouping_keys):\n",
    "    batter_agg_stats = get_aggregate_stats(batter_stats, batter_dismissals, grouping_keys)\n",
    "    team_agg_stats = get_aggregate_stats(team_stats, team_dismissals, grouping_keys)\n",
    "\n",
    "    impact_stats = pd.merge(\n",
    "        batter_agg_stats, \n",
    "        team_agg_stats, \n",
    "        on=grouping_keys,  # List of columns to join on\n",
    "        how='left',  # or 'left', 'right', 'outer',\n",
    "        suffixes=['_player', '_team']\n",
    "    ).reset_index()\n",
    "    impact_stats['global_key'] = impact_stats[grouping_keys].agg('_'.join, axis=1)\n",
    "    impact_stats['deliveries_factor'] = impact_stats['deliveries_player']/((impact_stats['deliveries_player']+impact_stats['deliveries_team'])/7.5)\n",
    "    impact_stats['runs_factor'] = impact_stats['runs_player']/((impact_stats['runs_player']+impact_stats['runs_team'])/7.5)\n",
    "    impact_stats['strike_rate_factor'] = impact_stats['strike_rate_player']/impact_stats['strike_rate_team']\n",
    "    return impact_stats\n",
    "\n",
    "grouping_keys = [\"season\", \"country\", \"bowler_team\"]\n",
    "\n",
    "(batter_stats, batter_dismissals,team_stats, team_dismissals) = get_delivery_stats(player_id, match_type,full_df)\n",
    "\n",
    "season_loc_oppteam_impact_stats = get_impact_stats(batter_stats,batter_dismissals,team_stats, team_dismissals, [\"season\", \"country\", \"bowler_team\"])\n",
    "season_oppteam_impact_stats = get_impact_stats(batter_stats,batter_dismissals,team_stats, team_dismissals, [\"season\", \"bowler_team\"])\n",
    "season_loc_impact_stats = get_impact_stats(batter_stats,batter_dismissals,team_stats, team_dismissals, [\"season\", \"country\"])\n",
    "year_oppteam_impact_stats = get_impact_stats(batter_stats,batter_dismissals,team_stats, team_dismissals, [\"year\", \"country\", \"bowler_team\"])\n",
    "year_loc_impact_stats = get_impact_stats(batter_stats,batter_dismissals,team_stats, team_dismissals, [\"year\", \"country\"])\n",
    "year_impact_stats = get_impact_stats(batter_stats,batter_dismissals,team_stats, team_dismissals, [\"year\"])\n"
   ]
  },
  {
   "cell_type": "code",
   "execution_count": null,
   "id": "23751538-4cb1-46cf-890c-e0d229fe0daa",
   "metadata": {},
   "outputs": [],
   "source": [
    "import matplotlib.pyplot as plt\n",
    "def plot_comparison_df(df,stat):\n",
    "    \n",
    "    df_plot = df.set_index('global_key')\n",
    "\n",
    "    # 3. Plot the multiline chart\n",
    "    plt.figure(figsize=(8,8)) # Set the figure size for better readability\n",
    "    \n",
    "    # Using the .plot() method directly on the DataFrame\n",
    "    # By default, if the index is numeric, it will be used as the x-axis\n",
    "    # and each column will be plotted as a separate line.\n",
    "    df_plot[[stat+'_player',stat+'_team']].plot(kind='bar', ax=plt.gca())\n",
    "    \n",
    "    plt.title(f'Compare team vs player performance for {stat}')\n",
    "    plt.xlabel('Series')\n",
    "    plt.ylabel(stat)\n",
    "    plt.grid(True) # Add a grid for easier reading\n",
    "    plt.legend(title='Series') # Add a legend to identify the lines\n",
    "    plt.tight_layout() # Adjust layout to prevent labels from overlapping\n",
    "    plt.show() # Display the plot\n",
    "\n",
    "def plot_factor_df(df,stat):\n",
    "    \n",
    "    df_plot = df.set_index('global_key')\n",
    "\n",
    "    # 3. Plot the multiline chart\n",
    "    plt.figure(figsize=(8,8)) # Set the figure size for better readability\n",
    "    ax = plt.gca() \n",
    "    \n",
    "    # Using the .plot() method directly on the DataFrame\n",
    "    # By default, if the index is numeric, it will be used as the x-axis\n",
    "    # and each column will be plotted as a separate line.\n",
    "    df_plot[[stat+'_factor']].plot(kind='bar', ax=ax)\n",
    "    ax.axhline(y=0.9, color='r', linestyle='--', linewidth=2, label=f'90% efficiency')\n",
    "    \n",
    "    plt.title(f'{stat} ratio compared to top 7 batter expectation')\n",
    "    plt.xlabel('Series')\n",
    "    plt.ylabel(stat+'_factor')\n",
    "    plt.grid(True) # Add a grid for easier reading\n",
    "    plt.legend(title='Series') # Add a legend to identify the lines\n",
    "    plt.tight_layout() # Adjust layout to prevent labels from overlapping\n",
    "    plt.show() # Display the plot"
   ]
  },
  {
   "cell_type": "code",
   "execution_count": null,
   "id": "b8e4c068-d48b-49a0-859a-fc44f5c73993",
   "metadata": {},
   "outputs": [],
   "source": [
    "home_impact = season_loc_impact_stats[season_loc_impact_stats['country'] == home_country]\n",
    "home_impact.attrs['name'] = 'Home'\n",
    "tour_impact = season_loc_impact_stats[season_loc_impact_stats['country'] != home_country]\n",
    "tour_impact.attrs['name'] = 'Away'\n",
    "sena_impact = season_loc_impact_stats[season_loc_impact_stats['country'].isin(['South Africa','England','New Zealand','Australia'])]\n",
    "sena_impact.attrs['name'] = 'SENA'\n",
    "subcontinent_impact = season_loc_impact_stats[season_loc_impact_stats['country'].isin(['India','Pakistan','Bangladesh','Sri Lanka'])]\n",
    "subcontinent_impact.attrs['name'] = 'Subcontinent'\n",
    "\n"
   ]
  },
  {
   "cell_type": "code",
   "execution_count": null,
   "id": "2c5c3d55",
   "metadata": {},
   "outputs": [],
   "source": [
    "plot_comparison_df(home_impact, 'average') "
   ]
  },
  {
   "cell_type": "code",
   "execution_count": null,
   "id": "7bcf959c",
   "metadata": {},
   "outputs": [],
   "source": [
    "plot_comparison_df(tour_impact, 'average') "
   ]
  },
  {
   "cell_type": "code",
   "execution_count": null,
   "id": "d9ae2a23-42a5-43bb-b191-519507222e9d",
   "metadata": {},
   "outputs": [],
   "source": [
    "plot_comparison_df(sena_impact, 'average') "
   ]
  },
  {
   "cell_type": "code",
   "execution_count": null,
   "id": "08587afe-8728-49c5-b367-1603fc4a6248",
   "metadata": {},
   "outputs": [],
   "source": [
    "plot_comparison_df(subcontinent_impact, 'average') "
   ]
  },
  {
   "cell_type": "code",
   "execution_count": null,
   "id": "49a24f9c-5f8a-4627-bc11-06c92833078e",
   "metadata": {},
   "outputs": [],
   "source": [
    "plot_comparison_df(year_impact_stats, 'average')"
   ]
  },
  {
   "cell_type": "code",
   "execution_count": null,
   "id": "3b2ef1aa",
   "metadata": {},
   "outputs": [],
   "source": [
    "plot_factor_df(home_impact, 'runs')"
   ]
  },
  {
   "cell_type": "code",
   "execution_count": null,
   "id": "6b7b050c",
   "metadata": {},
   "outputs": [],
   "source": [
    "plot_factor_df(home_impact, 'deliveries')"
   ]
  },
  {
   "cell_type": "code",
   "execution_count": null,
   "id": "c4c2681f",
   "metadata": {},
   "outputs": [],
   "source": [
    "plot_factor_df(tour_impact, 'runs')"
   ]
  },
  {
   "cell_type": "code",
   "execution_count": null,
   "id": "384f5cc9",
   "metadata": {},
   "outputs": [],
   "source": [
    "plot_factor_df(tour_impact, 'deliveries')"
   ]
  },
  {
   "cell_type": "code",
   "execution_count": null,
   "id": "ff117144",
   "metadata": {},
   "outputs": [],
   "source": [
    "plot_factor_df(sena_impact, 'deliveries')"
   ]
  },
  {
   "cell_type": "code",
   "execution_count": null,
   "id": "60411b2b",
   "metadata": {},
   "outputs": [],
   "source": [
    "plot_factor_df(sena_impact, 'runs')"
   ]
  },
  {
   "cell_type": "code",
   "execution_count": null,
   "id": "f4672227",
   "metadata": {},
   "outputs": [],
   "source": [
    "plot_factor_df(subcontinent_impact, 'runs')"
   ]
  },
  {
   "cell_type": "code",
   "execution_count": null,
   "id": "24241268",
   "metadata": {},
   "outputs": [],
   "source": [
    "plot_factor_df(year_impact_stats, 'runs')"
   ]
  },
  {
   "cell_type": "code",
   "execution_count": null,
   "id": "eb9b0e97",
   "metadata": {},
   "outputs": [],
   "source": [
    "plot_factor_df(sena_impact, 'deliveries')"
   ]
  },
  {
   "cell_type": "code",
   "execution_count": null,
   "id": "01141a7f",
   "metadata": {},
   "outputs": [],
   "source": [
    "plot_factor_df(subcontinent_impact, 'deliveries')"
   ]
  },
  {
   "cell_type": "code",
   "execution_count": null,
   "id": "102cab10",
   "metadata": {},
   "outputs": [],
   "source": [
    "plot_factor_df(year_impact_stats, 'deliveries')"
   ]
  },
  {
   "cell_type": "code",
   "execution_count": null,
   "id": "4944642a",
   "metadata": {},
   "outputs": [],
   "source": [
    "def generate_summary_text(impact_df):\n",
    "    recent_df = impact_df.tail(5)\n",
    "    return f\"\"\"\n",
    "        In {impact_df.attrs.get('name', \"Overall\")} conditions:\n",
    "            He scored at an average better than rest of the team {impact_df[impact_df['average_player'] > impact_df['average_team']].shape[0]} out of {impact_df.shape[0]} seasons.\n",
    "            He scored atleast 90% or more runs expected from an individual top 7 batter {impact_df[impact_df['runs_factor'] > 0.9].shape[0]} out of {impact_df.shape[0]} seasons.\n",
    "            He played atleast 90% or more deliveries expected from an individual top 7 batter {impact_df[impact_df['deliveries_factor'] > 0.9].shape[0]} out of {impact_df.shape[0]} seasons.\n",
    "            His strike rate was atleast 0.9X team strike rate {impact_df[impact_df['strike_rate_factor'] > 0.9].shape[0]} out of {impact_df.shape[0]} seasons.\n",
    "            His average was {impact_df['runs_player'].sum()/impact_df['dismissals_player'].fillna(1).sum()} compared to team {impact_df['runs_team'].sum()/impact_df['dismissals_team'].fillna(1).sum()}.\n",
    "            His strike_rate was {100*impact_df['runs_player'].sum()/impact_df['deliveries_player'].fillna(1).sum()} compared to team {impact_df['runs_team'].sum()/impact_df['deliveries_team'].fillna(1).sum()}.\n",
    "\n",
    "            And if you look at the last 5 series\n",
    "\n",
    "            He scored at an average better than rest of the team {recent_df[recent_df['average_player'] > recent_df['average_team']].shape[0]} out of {recent_df.shape[0]} seasons.\n",
    "            He scored atleast 90% or more runs expected from an individual top 7 batter {recent_df[recent_df['runs_factor'] > 0.9].shape[0]} out of {recent_df.shape[0]} seasons.\n",
    "            He played atleast 90% or more deliveries expected from an individual top 7 batter {recent_df[recent_df['deliveries_factor'] > 0.9].shape[0]} out of {recent_df.shape[0]} seasons.\n",
    "            His strike rate was atleast 0.9X team strike rate {recent_df[recent_df['strike_rate_factor'] > 0.9].shape[0]} out of {recent_df.shape[0]} seasons.\n",
    "            His average was {recent_df['runs_player'].sum()/recent_df['dismissals_player'].fillna(1).sum()} compared to team {recent_df['runs_team'].sum()/recent_df['dismissals_team'].fillna(1).sum()}.\n",
    "            His strike_rate was {100*recent_df['runs_player'].sum()/recent_df['deliveries_player'].fillna(1).sum()} compared to team {100*recent_df['runs_team'].sum()/recent_df['deliveries_team'].fillna(1).sum()}.\n",
    "    \"\"\""
   ]
  },
  {
   "cell_type": "code",
   "execution_count": null,
   "id": "28f81981",
   "metadata": {},
   "outputs": [],
   "source": [
    "print(generate_summary_text(home_impact))\n",
    "print(generate_summary_text(tour_impact))\n",
    "print(generate_summary_text(sena_impact))\n",
    "print(generate_summary_text(subcontinent_impact))\n",
    "print(generate_summary_text(year_impact_stats))"
   ]
  },
  {
   "cell_type": "code",
   "execution_count": null,
   "id": "e69c3062",
   "metadata": {},
   "outputs": [],
   "source": []
  }
 ],
 "metadata": {
  "kernelspec": {
   "display_name": "pytasy",
   "language": "python",
   "name": "python3"
  },
  "language_info": {
   "codemirror_mode": {
    "name": "ipython",
    "version": 3
   },
   "file_extension": ".py",
   "mimetype": "text/x-python",
   "name": "python",
   "nbconvert_exporter": "python",
   "pygments_lexer": "ipython3",
   "version": "3.11.13"
  }
 },
 "nbformat": 4,
 "nbformat_minor": 5
}
