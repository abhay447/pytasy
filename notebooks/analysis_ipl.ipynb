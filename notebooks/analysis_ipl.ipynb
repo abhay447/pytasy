{
 "cells": [
  {
   "cell_type": "code",
   "execution_count": null,
   "id": "ceffff61-4800-478c-8cdc-60f550a7f65f",
   "metadata": {},
   "outputs": [],
   "source": [
    "from dataprep import prepare_data\n",
    "\n",
    "DATA_DOWNLOAD_MODE = \"INCREMENTAL\" # FULL or INCREMENTAL\n",
    "# when INCREMENTAL is chosen then it is assumed that historical data already exists and last 30 days data is fetched and merged to that\n",
    "\n",
    "\n",
    "print(\"Start data prep\")\n",
    "# prepare_data(DATA_DOWNLOAD_MODE)"
   ]
  },
  {
   "cell_type": "code",
   "execution_count": null,
   "id": "c2fc5ec8-e45c-45b0-bf3a-ecefdf7c31fd",
   "metadata": {},
   "outputs": [],
   "source": [
    "import pandas as pd\n",
    "full_df = pd.read_parquet('/home/abhay/work/pytasy/processed_output/delivery_parquet/')\n",
    "people_df = pd.read_csv('downloads/people.csv')\n",
    "# full_df.createOrReplaceTempView(\"all_matches\")\n",
    "full_df"
   ]
  },
  {
   "cell_type": "code",
   "execution_count": null,
   "id": "bbeda0e5-c51a-4c37-8b01-23e70fa943cc",
   "metadata": {},
   "outputs": [],
   "source": [
    "full_df['match_type'].unique()"
   ]
  },
  {
   "cell_type": "code",
   "execution_count": null,
   "id": "2360a753",
   "metadata": {},
   "outputs": [],
   "source": [
    "full_df['event_name'].unique()"
   ]
  },
  {
   "cell_type": "code",
   "execution_count": null,
   "id": "2c9bc442-e698-4a26-8abe-45593a6215dd",
   "metadata": {},
   "outputs": [],
   "source": [
    "from country_lookup import venue_to_country, test_hosting_cities\n",
    "import numpy as np\n",
    "\n",
    "# Define the lookup function\n",
    "def lookup_country(city, venue):\n",
    "    if city is None:\n",
    "        return venue_to_country.get(venue, None)\n",
    "    return test_hosting_cities.get(city, None)  # Returns None if city not found\n",
    "lookup_country_vec = np.vectorize(lookup_country)\n",
    "# Apply the UDF\n",
    "full_df['country'] = lookup_country_vec(full_df['city'], full_df['venue_name'])\n",
    "\n",
    "full_df['year'] = pd.to_datetime(full_df[\"dt\"]).dt.year.astype('str')\n",
    "full_df['dt'] = full_df[\"dt\"].astype('str')"
   ]
  },
  {
   "cell_type": "code",
   "execution_count": null,
   "id": "2fed8417-c865-45c2-b33f-21960ba389ed",
   "metadata": {},
   "outputs": [],
   "source": [
    "event_type='Indian Premier League'\n",
    "ipl_stats = full_df[full_df['event_name'] == event_type]"
   ]
  },
  {
   "cell_type": "code",
   "execution_count": null,
   "id": "6901df16",
   "metadata": {},
   "outputs": [],
   "source": [
    "top_batters = ipl_stats.groupby(['batter_name']).agg(\n",
    "    runs=('batter_runs', 'sum')\n",
    ")\n",
    "top_batters = top_batters.reset_index()\n",
    "top_batters = top_batters[top_batters['runs'] > 100]\n",
    "top_batters_names = set(top_batters['batter_name'])\n"
   ]
  },
  {
   "cell_type": "code",
   "execution_count": null,
   "id": "1f6d65c7",
   "metadata": {},
   "outputs": [],
   "source": [
    "race_chart_stats = ipl_stats[ipl_stats['batter_name'].isin(top_batters_names)].groupby(['dt','batter_name']).agg(\n",
    "    runs=('batter_runs', 'sum')\n",
    ")\n",
    "race_chart_stats = race_chart_stats.sort_values(by=['dt'])\n",
    "race_chart_stats['runs'] = race_chart_stats.groupby(['batter_name'])['runs'].cumsum()\n",
    "race_chart_stats = race_chart_stats.reset_index()\n",
    "# flourish_stats = race_chart_stats\n",
    "# race_chart_stats = race_chart_stats.pivot(index='dt', columns='batter_name', values='runs').fillna(method = 'ffill').fillna(0)\n",
    "# race_chart_stats"
   ]
  },
  {
   "cell_type": "code",
   "execution_count": null,
   "id": "47c00210",
   "metadata": {},
   "outputs": [],
   "source": [
    "flourish_stats = race_chart_stats.pivot(index='batter_name', columns='dt', values='runs').fillna(method = 'ffill', axis=1).fillna(0)\n",
    "flourish_stats = flourish_stats.reset_index()\n",
    "flourish_stats.to_csv('/mnt/c/Users/91636/Documents/cricketbystats/ipl_top_scorers_race/flourish.csv', index=False)"
   ]
  },
  {
   "cell_type": "code",
   "execution_count": null,
   "id": "c7d9f9f6",
   "metadata": {},
   "outputs": [],
   "source": [
    "# import bar_chart_race as bcr\n",
    "# # df = bcr.load_dataset('covid19_tutorial')\n",
    "# bcr.bar_chart_race(\n",
    "#     df=race_chart_stats,\n",
    "#     filename='/mnt/c/Users/91636/Documents/cricketbystats/ipl_top_scorers_race/top_scorers.mp4',\n",
    "#     orientation='h',\n",
    "#     sort='desc',\n",
    "#     n_bars=10,\n",
    "#     fixed_order=False,\n",
    "#     fixed_max=False,\n",
    "#     steps_per_period=10,\n",
    "#     interpolate_period=False,\n",
    "#     label_bars=True,\n",
    "#     bar_size=.95,\n",
    "#     period_label={'x': .99, 'y': .25, 'ha': 'right', 'va': 'center'},\n",
    "#     period_fmt='%B %d, %Y',\n",
    "#     # period_summary_func=lambda v, r: {'x': .99, 'y': .18,\n",
    "#     #                                   's': f'Total deaths: {v.nlargest(6).sum():,.0f}',\n",
    "#     #                                   'ha': 'right', 'size': 8, 'family': 'Courier New'},\n",
    "#     perpendicular_bar_func='median',\n",
    "#     period_length=500,\n",
    "#     figsize=(5, 3),\n",
    "#     dpi=144,\n",
    "#     cmap='dark12',\n",
    "#     title='Top run getters in IPL',\n",
    "#     title_size='',\n",
    "#     bar_label_size=7,\n",
    "#     tick_label_size=7,\n",
    "#     # shared_fontdict={'family' : 'Helvetica', 'color' : '.1'},\n",
    "#     scale='linear',\n",
    "#     writer=None,\n",
    "#     fig=None,\n",
    "#     bar_kwargs={'alpha': .7},\n",
    "#     filter_column_colors=False)  "
   ]
  },
  {
   "cell_type": "code",
   "execution_count": null,
   "id": "2c7c6f06",
   "metadata": {},
   "outputs": [],
   "source": [
    "\n",
    "# player_id = 'b17e2f24' # KL rahul Pant\n",
    "# event_type='Indian Premier League'\n",
    "# home_country='India'\n",
    "# people_df[people_df['unique_name'].str.contains('kl rahul', case=False)]\n",
    "# ipl_stats = full_df[full_df['event_name'] == event_type]\n",
    "# batter_stats = ipl_stats[ipl_stats['batter_id'] == player_id]\n",
    "# batter_stats = batter_stats.sort_values(by=['dt', 'innings_number', 'over', 'ball'])\n",
    "# innings_keys = ['dt', 'innings_number']\n",
    "\n",
    "# batter_stats['batter_innings_runs'] = batter_stats.groupby(innings_keys)['batter_runs'].cumsum()\n",
    "# batter_stats['batter_innings_deliveries'] = batter_stats.groupby(innings_keys).cumcount() + 1\n",
    "# batter_stats['batter_innings_strike_rate'] = 100*batter_stats['batter_innings_runs'] / batter_stats['batter_innings_deliveries'].replace(0, 1)\n",
    "# batter_stats\n",
    "# batter_stats['innings_number'].unique()"
   ]
  }
 ],
 "metadata": {
  "kernelspec": {
   "display_name": "pytasy",
   "language": "python",
   "name": "python3"
  },
  "language_info": {
   "codemirror_mode": {
    "name": "ipython",
    "version": 3
   },
   "file_extension": ".py",
   "mimetype": "text/x-python",
   "name": "python",
   "nbconvert_exporter": "python",
   "pygments_lexer": "ipython3",
   "version": "3.11.13"
  }
 },
 "nbformat": 4,
 "nbformat_minor": 5
}
