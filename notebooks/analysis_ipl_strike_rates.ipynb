{
 "cells": [
  {
   "cell_type": "code",
   "execution_count": null,
   "id": "7bf61cd9",
   "metadata": {},
   "outputs": [],
   "source": [
    "import sys\n",
    "import os\n",
    "import pandas as pd\n",
    "# Get the parent directory\n",
    "parent_dir = os.path.abspath(os.path.join(os.path.dirname('__file__'), '..'))\n",
    "sys.path.append(parent_dir)"
   ]
  },
  {
   "cell_type": "code",
   "execution_count": null,
   "id": "5ec9dd6c",
   "metadata": {},
   "outputs": [],
   "source": [
    "from analysis_helper import get_analysis_df\n",
    "\n",
    "(full_df,people_df) = get_analysis_df(parent_dir)\n",
    "event_type='Indian Premier League'\n",
    "ipl_stats = full_df[full_df['event_name'] == event_type]"
   ]
  },
  {
   "cell_type": "code",
   "execution_count": null,
   "id": "6901df16",
   "metadata": {},
   "outputs": [],
   "source": [
    "top_batters = ipl_stats.groupby(['batter_name']).agg(\n",
    "    runs=('batter_runs', 'sum')\n",
    ")\n",
    "top_batters = top_batters.reset_index()\n",
    "top_batters = top_batters[top_batters['runs'] > 100]\n",
    "top_batters_names = set(top_batters['batter_name'])\n"
   ]
  },
  {
   "cell_type": "code",
   "execution_count": null,
   "id": "fae0e4fa",
   "metadata": {},
   "outputs": [],
   "source": [
    "powerplay_stats = ipl_stats[ipl_stats['over'] <= 6]\n",
    "powerplay_hitters = powerplay_stats.groupby(['batter_name']).agg(\n",
    "    runs=('batter_runs', 'sum'),\n",
    "    balls_faced=('match_id', 'count'),\n",
    "    innings=('match_id', 'nunique')\n",
    ")\n",
    "powerplay_hitters = powerplay_hitters.reset_index()\n",
    "powerplay_dismissals = powerplay_stats[powerplay_stats['is_wicket'] == 1].groupby(['wicket_player_name']).agg(\n",
    "    dismissals=('wicket_player_name', 'count')\n",
    ")\n",
    "powerplay_dismissals = powerplay_dismissals.reset_index()\n",
    "powerplay_dismissals.rename(columns={'wicket_player_name': 'batter_name'}, inplace=True)\n",
    "powerplay_hitters = powerplay_hitters.merge(powerplay_dismissals, on='batter_name', how='left')\n",
    "powerplay_hitters['dismissals'] = powerplay_hitters['dismissals'].fillna(0)\n",
    "powerplay_hitters = powerplay_hitters.reset_index()\n",
    "powerplay_hitters = powerplay_hitters[powerplay_hitters['innings'] > 5]\n",
    "powerplay_hitters['strike_rate'] = (powerplay_hitters['runs'] / powerplay_hitters['balls_faced']) * 100\n",
    "powerplay_hitters['average'] = powerplay_hitters['runs'] / (powerplay_hitters['dismissals'].replace(0, 1))\n",
    "powerplay_hitters['average'] = powerplay_hitters['runs'] / (powerplay_hitters['dismissals'].replace(0, 1))\n",
    "powerplay_hitters['average_balls_faced'] = powerplay_hitters['balls_faced'] / (powerplay_hitters['innings'].replace(0, 1))\n",
    "powerplay_hitters['expected_runs'] = powerplay_hitters['average_balls_faced']  * powerplay_hitters['strike_rate'] / 100\n",
    "del powerplay_hitters['index']\n"
   ]
  },
  {
   "cell_type": "code",
   "execution_count": null,
   "id": "b167c66f",
   "metadata": {},
   "outputs": [],
   "source": [
    "runs = powerplay_hitters.sort_values(by=['runs'], ascending=False)[:10][['batter_name', 'runs','innings','average']]\n",
    "runs"
   ]
  },
  {
   "cell_type": "code",
   "execution_count": null,
   "id": "ec20ca2f",
   "metadata": {},
   "outputs": [],
   "source": [
    "import seaborn as sns\n",
    "import matplotlib.pyplot as plt\n",
    "import pandas as pd\n",
    "\n",
    "# Create horizontal grouped barplot\n",
    "sns.set_theme(style=\"whitegrid\")\n",
    "plt.figure(figsize=(16, 9))\n",
    "ax = sns.barplot(data=runs, x='runs', y='batter_name', orient='h', palette='muted')\n",
    "\n",
    "for container in ax.containers:\n",
    "    ax.bar_label(container)\n",
    "\n",
    "for i, v in enumerate(runs['runs']):\n",
    "    print(i, v)\n",
    "    row = runs.iloc[i].to_dict()\n",
    "    value = f\"runs: {row['runs']}, innings: {row['innings']}, average: {row['average']:.2f}\"\n",
    "    ax.text(800, i, value, ha='center', va='center', \n",
    "        fontweight='bold', color='white', fontsize=12)\n",
    "\n",
    "\n",
    "# Add labels and title\n",
    "ax.set_xlabel('Runs')\n",
    "ax.set_ylabel('Batter Name')\n",
    "plt.title('Runs by Batter in Powerplay')\n",
    "\n",
    "\n",
    "plt.show()"
   ]
  },
  {
   "cell_type": "code",
   "execution_count": null,
   "id": "e76fc0b4",
   "metadata": {},
   "outputs": [],
   "source": [
    "powerplay_hitters.sort_values(by=['average'], ascending=False)[:10]"
   ]
  },
  {
   "cell_type": "code",
   "execution_count": null,
   "id": "47369fb4",
   "metadata": {},
   "outputs": [],
   "source": [
    "strike = powerplay_hitters.sort_values(by=['strike_rate'], ascending=False)[:10][['batter_name', 'runs','innings','balls_faced','strike_rate']]\n",
    "strike"
   ]
  },
  {
   "cell_type": "code",
   "execution_count": null,
   "id": "524365f3",
   "metadata": {},
   "outputs": [],
   "source": [
    "import seaborn as sns\n",
    "import matplotlib.pyplot as plt\n",
    "import pandas as pd\n",
    "\n",
    "# Create horizontal grouped barplot\n",
    "sns.set_theme(style=\"whitegrid\")\n",
    "plt.figure(figsize=(16, 9))\n",
    "ax = sns.barplot(data=strike, x='strike_rate', y='batter_name', orient='h', palette='muted')\n",
    "\n",
    "for container in ax.containers:\n",
    "    ax.bar_label(container)\n",
    "\n",
    "for i, v in enumerate(strike['strike_rate']):\n",
    "    print(i, v)\n",
    "    row = strike.iloc[i].to_dict()\n",
    "    value = f\"runs: {row['runs']}, innings: {row['innings']}, balls faced: {row['balls_faced']}, strike rate: {row['strike_rate']:.2f}\"\n",
    "    ax.text(60, i, value, ha='center', va='center', \n",
    "        fontweight='bold', color='white', fontsize=12)\n",
    "\n",
    "\n",
    "# Add labels and title\n",
    "ax.set_xlabel('Strike Rate')\n",
    "ax.set_ylabel('Batter Name')\n",
    "plt.title('Strike Rate by Batter in Powerplay')\n",
    "\n",
    "\n",
    "plt.show()"
   ]
  },
  {
   "cell_type": "code",
   "execution_count": null,
   "id": "1f6ff0e6",
   "metadata": {},
   "outputs": [],
   "source": [
    "impact = powerplay_hitters.sort_values(by=['expected_runs'], ascending=False)[:10]\n",
    "impact"
   ]
  },
  {
   "cell_type": "code",
   "execution_count": null,
   "id": "97517988",
   "metadata": {},
   "outputs": [],
   "source": [
    "import seaborn as sns\n",
    "import matplotlib.pyplot as plt\n",
    "import pandas as pd\n",
    "\n",
    "# Create horizontal grouped barplot\n",
    "sns.set_theme(style=\"whitegrid\")\n",
    "plt.figure(figsize=(16, 9))\n",
    "ax = sns.barplot(data=impact, x='expected_runs', y='batter_name', orient='h', palette='muted')\n",
    "\n",
    "for container in ax.containers:\n",
    "    ax.bar_label(container)\n",
    "\n",
    "for i, v in enumerate(impact['expected_runs']):\n",
    "    print(i, v)\n",
    "    row = impact.iloc[i].to_dict()\n",
    "    value = f\"runs: {row['runs']}, innings: {row['innings']}, avg: {row['average']:.2f}, strike rate: {row['strike_rate']:.2f}\"\n",
    "    ax.text(10, i, value, ha='center', va='center', \n",
    "        fontweight='bold', color='white', fontsize=12)\n",
    "\n",
    "\n",
    "# Add labels and title\n",
    "ax.set_xlabel('Expected Runs')\n",
    "ax.set_ylabel('Batter Name')\n",
    "plt.title('Expected Runs by Batter in Powerplay')\n",
    "\n",
    "\n",
    "plt.show()"
   ]
  },
  {
   "cell_type": "code",
   "execution_count": null,
   "id": "5fe5f831",
   "metadata": {},
   "outputs": [],
   "source": [
    "impact.iloc[0].to_dict()"
   ]
  },
  {
   "cell_type": "code",
   "execution_count": null,
   "id": "dab7e13d",
   "metadata": {},
   "outputs": [],
   "source": [
    "powerplay_hitters[powerplay_hitters['batter_name'].isin(['RR Pant', 'KL Rahul'])].style.hide(axis=\"index\")"
   ]
  },
  {
   "cell_type": "code",
   "execution_count": null,
   "id": "1a2f32f5",
   "metadata": {},
   "outputs": [],
   "source": []
  }
 ],
 "metadata": {
  "kernelspec": {
   "display_name": "pytasy",
   "language": "python",
   "name": "python3"
  },
  "language_info": {
   "codemirror_mode": {
    "name": "ipython",
    "version": 3
   },
   "file_extension": ".py",
   "mimetype": "text/x-python",
   "name": "python",
   "nbconvert_exporter": "python",
   "pygments_lexer": "ipython3",
   "version": "3.11.13"
  }
 },
 "nbformat": 4,
 "nbformat_minor": 5
}
