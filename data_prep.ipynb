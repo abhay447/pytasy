{
 "cells": [
  {
   "cell_type": "code",
   "execution_count": null,
   "id": "07303622",
   "metadata": {},
   "outputs": [],
   "source": [
    "from dataprep import prepare_data\n",
    "\n",
    "DATA_DOWNLOAD_MODE = \"INCREMENTAL\" # FULL or INCREMENTAL\n",
    "# when INCREMENTAL is chosen then it is assumed that historical data already exists and last 30 days data is fetched and merged to that\n",
    "\n",
    "\n",
    "print(\"Start data prep\")\n",
    "prepare_data(DATA_DOWNLOAD_MODE)"
   ]
  }
 ],
 "metadata": {
  "kernelspec": {
   "display_name": "pytasy",
   "language": "python",
   "name": "python3"
  },
  "language_info": {
   "codemirror_mode": {
    "name": "ipython",
    "version": 3
   },
   "file_extension": ".py",
   "mimetype": "text/x-python",
   "name": "python",
   "nbconvert_exporter": "python",
   "pygments_lexer": "ipython3",
   "version": "3.11.13"
  }
 },
 "nbformat": 4,
 "nbformat_minor": 5
}
